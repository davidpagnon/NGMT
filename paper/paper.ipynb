{
  "cells": [
    {
      "cell_type": "markdown",
      "id": "d208afe9",
      "metadata": {},
      "source": [
        "# Figure 1"
      ]
    },
    {
      "cell_type": "code",
      "execution_count": 1,
      "id": "31d0df89",
      "metadata": {},
      "outputs": [
        {
          "name": "stdout",
          "output_type": "stream",
          "text": [
            "86 gait sequence(s) detected.\n"
          ]
        },
        {
          "name": "stderr",
          "output_type": "stream",
          "text": [
            "C:\\Users\\Project\\AppData\\Local\\Temp\\ipykernel_21540\\3269734965.py:115: UserWarning: Matplotlib is currently using agg, which is a non-GUI backend, so cannot show the figure.\n",
            "  plt.show()\n"
          ]
        },
        {
          "data": {
            "text/plain": [
              "<Figure size 640x480 with 0 Axes>"
            ]
          },
          "metadata": {},
          "output_type": "display_data"
        }
      ],
      "source": [
        "# Import libraries\n",
        "import numpy as np\n",
        "import matplotlib.pyplot as plt\n",
        "from ngmt.datasets import mobilised\n",
        "from ngmt.modules.gsd import ParaschivIonescuGaitSequenceDetection\n",
        "from ngmt.modules.icd import ParaschivIonescuInitialContactDetection\n",
        "from ngmt.config import cfg_colors\n",
        "\n",
        "# Read the data\n",
        "file_path = (\n",
        "    r\"C:\\Users\\Project\\Desktop\\Gait_Sequence\\Mobilise-D dataset_1-18-2023\\CHF\\data.mat\"\n",
        ")\n",
        "\n",
        "# Define tracking system and tracked points\n",
        "tracking_sys = \"SU\"\n",
        "tracked_points = {tracking_sys: [\"LowerBack\"]}\n",
        "\n",
        "# Load recording data\n",
        "recording = mobilised.load_recording(\n",
        "    file_name=file_path, tracking_systems=[tracking_sys], tracked_points=tracked_points\n",
        ")\n",
        "\n",
        "# Extract lower back acceleration data\n",
        "acceleration_data = recording.data[tracking_sys][\n",
        "    [\"LowerBack_ACCEL_x\", \"LowerBack_ACCEL_y\", \"LowerBack_ACCEL_z\"]\n",
        "]\n",
        "\n",
        "# Get sampling frequency\n",
        "sampling_frequency = recording.channels[tracking_sys][\n",
        "    recording.channels[tracking_sys][\"name\"] == \"LowerBack_ACCEL_x\"\n",
        "][\"sampling_frequency\"].values[0]\n",
        "\n",
        "# Gait sequence detection\n",
        "gsd = ParaschivIonescuGaitSequenceDetection(target_sampling_freq_Hz=40)\n",
        "gsd = gsd.detect(\n",
        "    data=acceleration_data, sampling_freq_Hz=sampling_frequency, plot_results=False\n",
        ")\n",
        "gait_sequences = gsd.gait_sequences_\n",
        "\n",
        "# Initial contact detection\n",
        "icd = ParaschivIonescuInitialContactDetection(target_sampling_freq_Hz=40)\n",
        "icd = icd.detect(\n",
        "    data=acceleration_data,\n",
        "    gait_sequences=gait_sequences,\n",
        "    sampling_freq_Hz=sampling_frequency,\n",
        ")\n",
        "initial_contacts = icd.initial_contacts_\n",
        "\n",
        "# Access the first detected gait sequence\n",
        "first_gait_sequence = gait_sequences.iloc[0]\n",
        "\n",
        "# Plot setup\n",
        "fig, ax = plt.subplots(figsize=(12, 8))\n",
        "colors = cfg_colors[\"raw\"]\n",
        "num_samples = len(acceleration_data)\n",
        "time_seconds = np.arange(num_samples) / sampling_frequency\n",
        "\n",
        "# Initial contacts within the first gait sequence\n",
        "ic_within_gait = initial_contacts[\n",
        "    initial_contacts[\"onset\"].between(\n",
        "        first_gait_sequence[\"onset\"],\n",
        "        first_gait_sequence[\"onset\"] + first_gait_sequence[\"duration\"],\n",
        "    )\n",
        "]\n",
        "\n",
        "# Plot raw acceleration data\n",
        "for i in range(3):\n",
        "    ax.plot(\n",
        "        time_seconds,\n",
        "        acceleration_data[f\"LowerBack_ACCEL_{chr(120 + i)}\"],\n",
        "        color=colors[i],\n",
        "        label=f\"Acc {i + 1}\",\n",
        "    )\n",
        "\n",
        "# Plot gait onset and duration\n",
        "plt.axvline(first_gait_sequence[\"onset\"], color=\"green\", linestyle=\"-\")\n",
        "ax.axvspan(\n",
        "    first_gait_sequence[\"onset\"],\n",
        "    first_gait_sequence[\"onset\"] + first_gait_sequence[\"duration\"],\n",
        "    alpha=0.2,\n",
        "    color=\"gray\",\n",
        "    label=\"Gait duration\",\n",
        ")\n",
        "\n",
        "# Plot initial contacts within the first gait sequence\n",
        "for ic_time in ic_within_gait[\"onset\"]:\n",
        "    ax.axvline(ic_time, color=\"blue\", linestyle=\"--\")\n",
        "\n",
        "# Customize plot\n",
        "start_limit = first_gait_sequence[\"onset\"] - 1\n",
        "end_limit = first_gait_sequence[\"onset\"] + first_gait_sequence[\"duration\"] + 1\n",
        "ax.set_xlim(start_limit, end_limit)\n",
        "ax.set_ylim(-1, 1.5)\n",
        "ax.set_xlabel(\"Time (seconds)\", fontsize=16)\n",
        "ax.set_ylabel(\"Acceleration (g)\", fontsize=16)\n",
        "plt.xticks(fontsize=12)\n",
        "plt.yticks(fontsize=12)\n",
        "ax.grid(True, linestyle='--', linewidth=0.5)\n",
        "ax.legend(fontsize=12)\n",
        "plt.title(\"Acceleration Data and Gait Events\", fontsize=18)\n",
        "ax.legend(\n",
        "    [\"Acc 1\", \"Acc 2\", \"Acc 3\", \"Gait onset\", \"Gait duration\", \"Initial contacts\"],\n",
        "    fontsize=20,\n",
        "    loc=\"upper right\",\n",
        ")\n",
        "plt.tight_layout()\n",
        "\n",
        "# Save the figure as a PNG\n",
        "plt.savefig('figure_1.png', dpi=300, bbox_inches='tight')\n",
        "\n",
        "# Save the figure as a PDF\n",
        "plt.switch_backend('agg')\n",
        "plt.savefig('figure_1.pdf', format='pdf', dpi=300, bbox_inches='tight')\n",
        "\n",
        "# Show the plot\n",
        "plt.show()\n"
      ]
    }
  ],
  "metadata": {
    "kernelspec": {
      "display_name": "Python 3 (ipykernel)",
      "language": "python",
      "name": "python3"
    },
    "language_info": {
      "codemirror_mode": {
        "name": "ipython",
        "version": 3
      },
      "file_extension": ".py",
      "mimetype": "text/x-python",
      "name": "python",
      "nbconvert_exporter": "python",
      "pygments_lexer": "ipython3",
      "version": "3.11.4"
    }
  },
  "nbformat": 4,
  "nbformat_minor": 5
}
