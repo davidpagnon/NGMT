{
    "cells": [
        {
            "cell_type": "markdown",
            "metadata": {},
            "source": [
                "# PHysical Activity Monitoring (PAM)\n",
                "\n",
                "This notebook will serve as a reference on how to use phyisical activity monitoring algortihm.\n",
                "\n",
                "The example illustrates how the physical activity monitoring (PAM) algorithm is used to determine the intensity level of sedentary, light, moderate, and vigorous physical activities using body acceleration recorded with a triaxial accelerometer worn on the wrist. The physical activity monitoring algorithm is implemented in the main module `NGMT\\ngmt\\modules\\PAM.py`.\n",
                "\n",
                "The algorithm determines the intensity level of the physical activities based on the following steps. It starts by loading the input_data, which includes data with a time index along with accelerometer data (N, 3) for x, y, and z axes. The other input of the algorithm is sampling_frequency, which is in Hz, and the default value is 100. Another input of the algorithm is thresholds, which should be provided as a dictionary containing threshold values for physical activity detection. Epoch length, which is defined in seconds, is the next input of the algorithm, as shown with epoch_duration. The default value is 5 seconds. The last input of the algorithm is plot_results, which, if set to True, generates a plot showing the average Euclidean Norm Minus One (ENMO) per hour for each date. The default is True.\n",
                "\n",
                "The following steps are taken to preprocess the input signal. First, the sample-level Euclidean norm (EN) of the acceleration signal across the x, y, and z axes is calculated. Next, a fourth-order Butterworth low-pass filter with a cut-off frequency of 20Hz is applied to remove noise. This filter is applied to the vector magnitude scores, rather than the individual axes. To separate out the activity-related component of the acceleration signal, the ENMO index is calculated. The Euclidean Norm Minus One (ENMO) is a summary metric for acceleration data and represents the vector magnitude of 3 axial measures minus the contribution of gravity (1 g). Then, negative values of the ENMO are truncated to zero. Finally, the calculated indices are multiplied by 1000 to convert the units of the acceleration from g to milli-g.\n",
                "\n",
                "The algorithm continues by classifying the intensity of the physical activities based on the calculated ENMO values. Using the activity_classification function, the ENMO time-series data is then expressed in 5-second epochs. Epochs with a length of 5 seconds are used for summarizing the data, as this epoch length has been suggested to be able to capture shorter bouts of activities. The greater the intensity of movement and duration of activity in the summed 5-second epochs are, the greater the ENMO value is. Then, the intensity of activities as the time distribution of ENMO using 5-second epochs is used to classify activities based on different thresholds. In the analysis of intensity distribution, the following thresholds are used for categorization: sedentary activity < 45 milli-g, light activity 45–100 milli-g, moderate activity 100–400 milli-g, vigorous activity > 400 milli-g.\n",
                "\n",
                "Finally, the algorithm takes the last steps to classify different levels of activities along with the time spent on each activity level for each day. The algorithm also visualizes the averaged ENMO values for each day.\n"
            ]
        },
        {
            "cell_type": "markdown",
            "metadata": {},
            "source": [
                "## Import libraries\n",
                "The necessary libraries such as pandas, os and physical activity monitoring (PAM) are imported. Make sure that you have all the required libraries and modules installed before running this code. You also may need to install the 'ngmt' library and its dependencies if you haven't already."
            ]
        },
        {
            "cell_type": "code",
            "execution_count": 1,
            "metadata": {},
            "outputs": [],
            "source": [
                "import pandas as pd\n",
                "import numpy as np\n",
                "from ngmt.modules import PAM\n",
                "import os\n",
                "from ngmt.utils.fairpark import load_fairpark_data"
            ]
        },
        {
            "cell_type": "markdown",
            "metadata": {},
            "source": [
                "## Load Data\n",
                "The data, including time index and accelerometer data (N, 3) for the x, y, and z axes, is loaded as a numpy.ndarray."
            ]
        },
        {
            "cell_type": "code",
            "execution_count": null,
            "metadata": {},
            "outputs": [],
            "source": [
                "# The data folder path\n",
                "data_folder_path = r\"C:\\Users\\Project\\Desktop\\sub_001\"\n",
                "\n",
                "# Function to load motion data\n",
                "acc_data, sampling_frequency = load_fairpark_data(data_folder_path)"
            ]
        },
        {
            "cell_type": "markdown",
            "metadata": {},
            "source": [
                "## Apply the physical activity monitoring algorithm\n",
                "Now, we are running physical activity monitoring (PAM) algorithm from main module (`NGMT.ngmt.modules.PAM.Physical_Activity_Monitoring`). The inputs of the algorihm are as follows. The input_data, includes data with a time index along with accelerometer data (N, 3) for x, y, and z axes. The sampling_frequency is the sampling frequecy of the acceleration data which is defined in Hz, and the default value of it is 100 Hz. The next input, thresholds, are provided as a dictionary containing threshold values for physical activity detection. The epoch_duration is the epoch length in seconds and the default value is 5 seconds. The last input of the algorithm is plot_results, which, if set to True, generates a plot showing the average Euclidean Norm Minus One (ENMO) per hour for each day. The default is True.\n",
                "\n",
                "\n"
            ]
        },
        {
            "cell_type": "code",
            "execution_count": null,
            "metadata": {},
            "outputs": [],
            "source": [
                "# Use Physical_Activity_Monitoring to classify physical activity levels\n",
                "phyam_results = PAM.Physical_Activity_Monitoring(\n",
                "    input_data=acc_data,\n",
                "    sampling_frequency=100,\n",
                "    thresholds={\n",
                "        \"sedentary_threshold\": 45,\n",
                "        \"light_threshold\": 100,\n",
                "        \"moderate_threshold\": 400,\n",
                "    },\n",
                "    epoch_duration=5,\n",
                "    plot_results=True,\n",
                ")"
            ]
        },
        {
            "cell_type": "code",
            "execution_count": null,
            "metadata": {},
            "outputs": [],
            "source": [
                "# Display average ENMO values for each activity level for each day.\n",
                "for index, row in phyam_results.iterrows():\n",
                "    print(f\"Date: {row['date']}\")\n",
                "\n",
                "    # Check if there are NaN values for mean acceleration\n",
                "    if not np.isnan(row[\"sedentary_mean_acc\"]):\n",
                "        print(f\"Mean ENMO for Sedentary: {row['sedentary_mean_acc']} mili-g\")\n",
                "        print(f\"Time Spent for Sedentary: {row['sedentary_spent_time_minute']} minutes\")\n",
                "\n",
                "    if not np.isnan(row[\"light_mean_acc\"]):\n",
                "        print(f\"Mean ENMO for Light Activity: {row['light_mean_acc']} mili-g\")\n",
                "        print(\n",
                "            f\"Time Spent for Light Activity: {row['light_spent_time_minute']} minutes\"\n",
                "        )\n",
                "\n",
                "    if not np.isnan(row[\"moderate_mean_acc\"]):\n",
                "        print(f\"Mean ENMO for Moderate Activity: {row['moderate_mean_acc']} mili-g\")\n",
                "        print(\n",
                "            f\"Time Spent for Moderate Activity: {row['moderate_spent_time_minute']} minutes\"\n",
                "        )\n",
                "\n",
                "    if not np.isnan(row[\"vigorous_mean_acc\"]):\n",
                "        print(f\"Mean ENMO for Vigorous Activity: {row['vigorous_mean_acc']} mili-g\")\n",
                "        print(\n",
                "            f\"Time Spent for Vigorous Activity: {row['vigorous_spent_time_minute']} minutes\"\n",
                "        )\n",
                "\n",
                "    print(\"=\" * 40)"
            ]
        }
    ],
    "metadata": {
        "kernelspec": {
            "display_name": "venv_ngmt",
            "language": "python",
            "name": "python3"
        },
        "language_info": {
            "codemirror_mode": {
                "name": "ipython",
                "version": 3
            },
            "file_extension": ".py",
            "mimetype": "text/x-python",
            "name": "python",
            "nbconvert_exporter": "python",
            "pygments_lexer": "ipython3",
            "version": "3.11.4"
        }
    },
    "nbformat": 4,
    "nbformat_minor": 2
}
