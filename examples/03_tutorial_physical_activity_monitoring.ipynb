{
 "cells": [
  {
   "cell_type": "markdown",
   "metadata": {},
   "source": [
    "# Tutorial: Physical Activity Monitoring\n",
    "\n",
    "**Author:** Masoud Abedinifar \n",
    "\n",
    "**Last update:** Thu 14 Mar 2024\n",
    "\n",
    "## Learning objectives  \n",
    "By the end of this tutorial, you will be able to:  \n",
    "\n",
    "- Load accelerometer data from a recording that belongs to one of the available datasets, \n",
    "- Apply the Physical Activity Monitoring algorithm to classify activity intensity levels.  \n",
    "- Interpret the results of activity classification.  \n",
    "- Visualize the activity intensity levels over time. "
   ]
  },
  {
   "cell_type": "markdown",
   "metadata": {},
   "source": [
    "# Pam Physical Activity Monitoring\n",
    "\n",
    "This example serves as a reference on how to use the physical activity monitoring algorithm. This example can be cited by referencing the package.\n",
    "\n",
    "The example illustrates how the physical activity monitoring algorithm determines the intensity level of sedentary, light, moderate, and vigorous physical activities using body acceleration recorded with a triaxial accelerometer worn on the wrist. The physical activity monitoring algorithm is implemented in the main module [`ngmt.modules.pam._pam`](https://github.com/neurogeriatricskiel/NGMT/tree/main/ngmt/modules/pam/_pam.py).\n",
    "\n",
    "The algorithm determines the intensity level of physical activities based on the following steps:\n",
    "\n",
    "1. **Loading Data:** Start by loading the data, including a time index along with accelerometer data (N, 3) for x, y, and z axes. The other inputs are the sampling frequency of the data (sampling_freq_Hz), defaulting to 100 Hz, and thresholds (thresholds_mg), provided as a dictionary containing threshold values for physical activity detection in mg unit. Another input is the epoch duration (epoch_duration_sec) in seconds, defaulting to 5 seconds. The last input, plot_results, when set to True, generates a plot showing the average Euclidean Norm Minus One (ENMO) per hour for each date, with a default of True.\n",
    "\n",
    "2. **Preprocessing:** The input signal is preprocessed by calculating the sample-level Euclidean norm (EN) of the acceleration signal across the x, y, and z axes. A fourth-order Butterworth low-pass filter with a cut-off frequency of 20Hz is then applied to remove noise. This filter is applied to the vector magnitude scores. The ENMO index is calculated to separate the activity-related component of the acceleration signal. Negative ENMO values are truncated to zero. Finally, the indices are multiplied by 1000 to convert units from g to mg.\n",
    "\n",
    "3. **Classification:** The algorithm classifies the intensity of physical activities based on the calculated ENMO values. The activity_classification function expresses the ENMO time-series data in 5-second epochs for summarizing the data. Thresholds for categorization are as follows: sedentary activity < 45 mg, light activity 45–100 mg, moderate activity 100–400 mg, vigorous activity > 400 mg.\n",
    "\n",
    "4. **Results:** The algorithm classifies different levels of activities along with the time spent on each activity level for each day. If `plot_results` is set to True, the function generates a plot showing the averaged ENMO values for each day.\n",
    "\n",
    "#### References\n",
    "[`1`] Doherty, Aiden, et al. (2017). Large scale population assessment of physical activity using wrist-worn accelerometers: the UK biobank study. PloS one 12.2. [https://doi.org/10.1371/journal.pone.0169649](https://doi.org/10.1371/journal.pone.0169649)\n",
    "\n",
    "[`2`] Van Hees, Vincent T., et al. (2013). Separating movement and gravity components in an acceleration signal and implications for the assessment of human daily physical activity. PloS one 8.4. [https://doi.org/10.1371/journal.pone.0061691](https://doi.org/10.1371/journal.pone.0061691)\n"
   ]
  },
  {
   "cell_type": "markdown",
   "metadata": {},
   "source": [
    "## Import Libraries\n",
    "The necessary libraries such as pandas, physical activity monitoring and fairpark data loader are imported. Make sure that you have all the required libraries and modules installed before running this code. You may also need to install the `ngmt` library and its dependencies if you haven't already.\n"
   ]
  },
  {
   "cell_type": "code",
   "execution_count": 3,
   "metadata": {},
   "outputs": [],
   "source": [
    "import pandas as pd\n",
    "import os\n",
    "pd.options.mode.chained_assignment = None\n",
    "import matplotlib.pyplot as plt\n",
    "import matplotlib.dates as mdates\n",
    "from ngmt.modules.pam import PhysicalActivityMonitoring\n",
    "from ngmt.datasets import fairpark\n",
    "from ngmt.config import cfg_colors"
   ]
  },
  {
   "cell_type": "markdown",
   "metadata": {},
   "source": [
    "## Data Preparation\n",
    "\n",
    "To implement the physical activity monitoring algorithm, we load example data from a participant who has worn a wrist IMU sensor for several hours during a day while performing daily life activities at home.\n",
    "\n",
    "The data, including a time index and accelerometer data (N, 3) for the x, y, and z axes, is loaded as a pandas DataFrame."
   ]
  },
  {
   "cell_type": "code",
   "execution_count": 10,
   "metadata": {},
   "outputs": [
    {
     "name": "stdout",
     "output_type": "stream",
     "text": [
      "Acceleration data m/s^2:                          LARM_ACCEL_x  LARM_ACCEL_y  LARM_ACCEL_z\n",
      "timestamp                                                        \n",
      "2016-10-01 06:51:47.000      -1.02024      3.904380      -9.53532\n",
      "2016-10-01 06:51:47.010      -0.66708      4.414500      -9.35874\n",
      "2016-10-01 06:51:47.020      -1.02024      4.767660      -9.47646\n",
      "2016-10-01 06:51:47.030      -0.66708      4.708800     -10.98720\n",
      "2016-10-01 06:51:47.040      -1.13796      4.767660     -10.28088\n",
      "...                               ...           ...           ...\n",
      "2016-10-01 16:17:28.270      -5.74866    -16.323839      14.81310\n",
      "2016-10-01 16:17:28.280       7.04358      7.946100      -0.66708\n",
      "2016-10-01 16:17:28.290      -0.78480     -1.765800       9.94734\n",
      "2016-10-01 16:17:28.300       1.90314     -3.433500       9.82962\n",
      "2016-10-01 16:17:28.310       1.96200     -2.511360       7.57332\n",
      "\n",
      "[3394132 rows x 3 columns]\n"
     ]
    }
   ],
   "source": [
    "# The 'file_path' variable holds the absolute path to the data file\n",
    "file_path = r\"C:\\Users\\Project\\Desktop\\sub_023\\sub-023_imu-LARM_20160110_065147.csv\"\n",
    "\n",
    "# In this example, we use \"imu\" as tracking_system and extract the tracked point from the file name.\n",
    "tracking_sys = \"imu\"\n",
    "\n",
    "# Extract tracked point from the file name dynamically\n",
    "file_name_parts = os.path.splitext(os.path.basename(file_path))[0].split(\"_\")\n",
    "tracked_point = next((part for part in file_name_parts if \"imu-\" in part), None)\n",
    "if tracked_point:\n",
    "    tracked_point = tracked_point.split(\"-\")[-1]\n",
    "tracked_points = {tracking_sys: [tracked_point]}\n",
    "\n",
    "# The 'fairpark.load_recording' function is used to load the data\n",
    "recording = fairpark.load_recording(\n",
    "    file_name=file_path, tracking_systems=[tracking_sys], tracked_points=tracked_points\n",
    ")\n",
    "\n",
    "# Load and print wrist acceleration data\n",
    "if tracked_point:\n",
    "    acceleration_data = recording.data[tracking_sys][\n",
    "        [f\"{tracked_point}_ACCEL_x\", f\"{tracked_point}_ACCEL_y\", f\"{tracked_point}_ACCEL_z\"]\n",
    "    ]\n",
    "    print(f\"Acceleration data {recording.channels[tracking_sys]['units'][0]}:\", acceleration_data)\n",
    "\n",
    "# Get the corresponding sampling frequency from the recording\n",
    "sampling_frequency = recording.channels[tracking_sys][\"sampling_frequency\"].iloc[0]\n"
   ]
  },
  {
   "cell_type": "markdown",
   "metadata": {},
   "source": [
    "## Visualisation of the Data\n",
    "The raw acceleration data including components of x, y and z axis is represented."
   ]
  },
  {
   "cell_type": "code",
   "execution_count": null,
   "metadata": {},
   "outputs": [],
   "source": [
    "# Create a figure\n",
    "plt.figure(figsize=(14, 8))\n",
    "\n",
    "# Get colors for raw (cfg_colors[\"raw\"] contains color information)\n",
    "colors = cfg_colors[\"raw\"]  \n",
    "\n",
    "# Plot acceleration data\n",
    "for i in range(3):\n",
    "    plt.plot(\n",
    "        acceleration_data.index,\n",
    "        acceleration_data[f\"LARM_ACCEL_{chr(120 + i)}\"],\n",
    "        color=colors[i],\n",
    "        label=f\"Acc {'xyz'[i]}\",\n",
    "    )\n",
    "\n",
    "# Add labels and legends to the figure\n",
    "plt.xlabel(\"Time (h)\", fontsize=16)\n",
    "plt.ylabel(\"Acceleration (m/s$^2$)\", fontsize=16)\n",
    "plt.title(\"Acceleration Data from Wrist IMU Sensor\")\n",
    "plt.legend(fontsize=18)\n",
    "\n",
    "# Formatting x-axis to display both time and date\n",
    "plt.gca().xaxis.set_major_formatter(mdates.DateFormatter(\"%H:%M\\n%Y-%m-%d\"))\n",
    "plt.gca().xaxis.set_major_locator(mdates.HourLocator(interval=1))\n",
    "\n",
    "# Set custom x-axis ticks and limits\n",
    "start_time = acceleration_data.index[0].replace(hour=0, minute=0, second=0)\n",
    "end_time = start_time + pd.Timedelta(days=1)\n",
    "xticks = pd.date_range(start_time, end_time, freq=\"H\")\n",
    "\n",
    "# Add a title\n",
    "plt.title(\n",
    "    \"Accelerometer data from the wrist IMU sensor\",\n",
    "    fontsize=20,\n",
    ")\n",
    "\n",
    "# Customize tick and font sizes\n",
    "plt.xticks(xticks, [f\"{x.hour:02}\" for x in xticks], fontsize=16)\n",
    "plt.xlim(start_time, end_time)\n",
    "plt.yticks(fontsize=16)\n",
    "\n",
    "# Extract date from the first timestamp\n",
    "date = str(acceleration_data.index[0].date())\n",
    "\n",
    "# Add date underneath the x-axis labels\n",
    "plt.text(0.5, -0.15, f\"Date: {date}\", fontsize=14, ha='center', transform=plt.gca().transAxes)\n",
    "\n",
    "# Adjust legend location and its font\n",
    "plt.legend(loc=\"upper left\", fontsize=16)\n",
    "\n",
    "# Display a grid\n",
    "plt.grid(visible=None, which=\"both\", axis=\"both\")\n",
    "\n",
    "# Show the plot\n",
    "plt.tight_layout()\n",
    "plt.show()\n"
   ]
  },
  {
   "cell_type": "markdown",
   "metadata": {},
   "source": [
    "## Apply Physical Activity Monitoring Algorithm\n",
    "Now, we are running the physical activity monitoring algorithm from the main module [`ngmt.modules.pam._pam`](https://github.com/neurogeriatricskiel/NGMT/tree/main/ngmt/modules/pam/_pam.py). The inputs of the algorithm are as follows:\n",
    "\n",
    "- **Input Data:** `data` Includes data with a time index along with accelerometer data (N, 3) for x, y, and z axes in pandas Dataframe format.\n",
    "- **Acceleration Unit:** `acceleration_unit` is the unit of the acceleration data.\n",
    "- **Sampling Frequency:** `sampling_freq_Hz` is the sampling frequency of the acceleration data, defined in Hz, with a default value of 100 Hz.\n",
    "- **Thresholds:** `thresholds_mg` are provided as a dictionary containing threshold values for physical activity detection in mili-g.\n",
    "- **Epoch Duration:** `epoch_duration_sec` is the epoch length in seconds, with a default value of 5 seconds.\n",
    "- **Plot Results:** `plot_results`, if set to True, generates a plot showing the average Euclidean Norm Minus One (ENMO) per hour for each day. The default is True.\n",
    "\n",
    "To apply the physical activity monitoring algorithm, an instance of the PhysicalActivityMonitoring class is created using the constructor, `PhysicalActivityMonitoring()`. The `pam` variable holds the instance, allowing us to access its methods. The output of the algorithm includes information regarding physical activity levels and the time spent on each activity for the provided date, including the mean of sedentary time, light, moderate, and vigorous activities, along with the time spent for each of them."
   ]
  },
  {
   "cell_type": "code",
   "execution_count": null,
   "metadata": {},
   "outputs": [],
   "source": [
    "# Create an instance of the PhysicalActivityMonitoring class\n",
    "pam = PhysicalActivityMonitoring()\n",
    "\n",
    "# Call phyisical activity monitoring using pam.detect\n",
    "pam = pam.detect(\n",
    "    data=acceleration_data,\n",
    "    acceleration_unit=recording.channels[tracking_sys]['units'][0],\n",
    "    sampling_freq_Hz=sampling_frequency,\n",
    "    thresholds_mg={\n",
    "        \"sedentary_threshold\": 45,\n",
    "        \"light_threshold\": 100,\n",
    "        \"moderate_threshold\": 400,\n",
    "    },\n",
    "    epoch_duration_sec=5,\n",
    "    plot=True,\n",
    ")\n",
    "\n",
    "# Phyisical activity information are stored in physical_activities_ attribute of pam\n",
    "physical_activities = pam.physical_activities_\n",
    "\n",
    "# Print daily phyisical activity information\n",
    "print(\"Physical Activities:\", physical_activities)"
   ]
  }
 ],
 "metadata": {
  "kernelspec": {
   "display_name": "venv_ngmt",
   "language": "python",
   "name": "python3"
  },
  "language_info": {
   "codemirror_mode": {
    "name": "ipython",
    "version": 3
   },
   "file_extension": ".py",
   "mimetype": "text/x-python",
   "name": "python",
   "nbconvert_exporter": "python",
   "pygments_lexer": "ipython3",
   "version": "3.11.4"
  }
 },
 "nbformat": 4,
 "nbformat_minor": 2
}
