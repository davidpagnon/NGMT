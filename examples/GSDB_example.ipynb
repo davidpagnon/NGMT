{
 "cells": [
  {
   "cell_type": "markdown",
   "metadata": {},
   "source": [
    "\n",
    "# Gait Sequence Detection\n",
    "\n",
    "This example illustrates how the gait sequence detection (GSDB) algorithm\n",
    "can be used to detect gait sequences using body acceleration recorded with a triaxial accelerometer worn/fixed on the lower back. The gait sequence detection algorithm is implemented in the main module GSDB.py. \n",
    "\n",
    "The algorithm detects the gait sequences based on identified steps. The algorithm starts with loading the accelerometer data including three columns corresponding to the acceleration signal across the x, y, and z axes, as well as the sampling frequency of the data. To simplify analysis, the norm of acceleration across the x, y, and z axes is computed. Then, the signal is resampled at 40 Hz sampling frequency using interpolation. Then, smoothing is applied through a Savitzky-Golay filter and a Finite Impulse Response (FIR) lowpass filter to remove noise and drifts from the signal. Continuous wavelet transform is then applied to capture gait-related features, followed by additional smoothing using successive Gaussian-weighted filters. The processed data is then analyzed to detect gait sequences.\n",
    "\n",
    "Then, the code continues by identifying the envelope of the processed acceleration signal. The active periods of the signal are identified using the Hilbert envelope. The statistical distribution of the amplitude of the peaks in these active periods is then used to derive an adaptive threshold. In case the Hilbert envelope algorithm fails to detect active periods, the fixed threshold value (0.15 g) is used for peak detection in the signal. Mid-swing peaks are detected based on this threshold. Pulse trains in the local maximum and minimum of the peaks are identified, with those having fewer than four steps filtered out. The intersection of pulse trains from local maximum and minimum peaks is detected as walking periods. These periods are then organized and packed to update the start and end times of detected walking bouts.\n",
    "\n",
    "Then, final steps are taken to detect walking bouts in the signal. For this purpose, walking bouts with five or more steps are detected, and their start and end times are added to the list. Walking labels are generated as an array of zeros, and the intervals corresponding to the walking bouts are labeled as 1. Then, groups of consecutive zeros in the walking labels are identified, and if breaks between walking bouts are less than three seconds, they are merged. Finally, the output is constructed as a list of dictionaries containing the start and end times of detected gait sequences. If gait sequences are found, the output is printed; otherwise, a message indicating that no gait sequences are detected is displayed. Optionally, if the plot_results flag is set to True, a visualization plot is generated to display the preprocessed data and detected gait sequences. The pipeline also comprises several error-checking methods to maintain data integrity. "
   ]
  },
  {
   "cell_type": "markdown",
   "metadata": {},
   "source": [
    "## Import libraries\n",
    "The necessary libraries are imported. "
   ]
  },
  {
   "cell_type": "code",
   "execution_count": null,
   "metadata": {},
   "outputs": [],
   "source": [
    "import numpy as np\n",
    "import matplotlib.pyplot as plt\n",
    "import pandas as pd\n",
    "import os\n",
    "from ngmt.utils import matlab_loader\n",
    "from ngmt.modules.gsd import GSDB"
   ]
  },
  {
   "cell_type": "markdown",
   "metadata": {},
   "source": [
    "## Getting example data\n",
    "The algorithm was developed and validated using the data of the following cohorts: congestive heart failure (CHF), chronic obstructive pulmonary disease (COPD), healthy adult (HA), multiple sclerosis (MS), Parkinson’s (PD) and proximal femoral facture (PFF) included in the Zenodo repository (\"https://ADDRESS_SHOULD_BE_ADDED_HERE\").\n",
    "\n",
    "To implemet the GSDB algortihm, the example data from CHF cohort is loaded."
   ]
  },
  {
   "cell_type": "code",
   "execution_count": null,
   "metadata": {},
   "outputs": [],
   "source": [
    "# Data directory\n",
    "file_directory = 'C:\\\\Users\\\\Project\\\\Desktop\\\\Gait_Sequence\\\\Mobilise-D dataset_1-18-2023\\\\CHF\\\\data.mat'\n",
    "\n",
    "# Load IMU sendor data using load_matlab \n",
    "data_dict = matlab_loader.load_matlab(file_directory, top_level=\"data\")\n",
    "\n",
    "# Get the acceleration data\n",
    "acceleration_data = data_dict['TimeMeasure1']['Recording4']['SU'][\"LowerBack\"][\"Acc\"]\n",
    "\n",
    "# Get the corresponding sampling frequency\n",
    "sampling_frequency = data_dict['TimeMeasure1']['Recording4']['SU'][\"LowerBack\"]['Fs'][\"Acc\"]\n"
   ]
  },
  {
   "cell_type": "markdown",
   "metadata": {},
   "source": [
    "## Applying the gait sequence detection algorithm\n",
    "First we need to initialize gait sequence detection (GSDB) algorithm.\n",
    "In most cases it is sufficient to keep all parameters at default."
   ]
  },
  {
   "cell_type": "code",
   "execution_count": null,
   "metadata": {},
   "outputs": [],
   "source": [
    "# Use Gait_Sequence_Detection to detect gait sequence \n",
    "gait_sequences = GSDB.Gait_Sequence_Detection(imu_acceleration=acceleration_data, sampling_frequency=sampling_frequency, plot_results=True)\n",
    "\n",
    "# Display the detected gait sequences\n",
    "if gait_sequences:\n",
    "    for i, sequence in enumerate(gait_sequences):\n",
    "        print(f\"Gait Sequence {i + 1}:\")\n",
    "        print(f\"Start Time: {sequence['Start']} seconds\")\n",
    "        print(f\"End Time: {sequence['End']} seconds\")\n",
    "        print(f\"Sampling Frequency: {sequence['fs']} Hz\")\n",
    "        print()"
   ]
  }
 ],
 "metadata": {
  "kernelspec": {
   "display_name": "venv_ngmt",
   "language": "python",
   "name": "python3"
  },
  "language_info": {
   "codemirror_mode": {
    "name": "ipython",
    "version": 3
   },
   "file_extension": ".py",
   "mimetype": "text/x-python",
   "name": "python",
   "nbconvert_exporter": "python",
   "pygments_lexer": "ipython3",
   "version": "3.11.4"
  }
 },
 "nbformat": 4,
 "nbformat_minor": 2
}
