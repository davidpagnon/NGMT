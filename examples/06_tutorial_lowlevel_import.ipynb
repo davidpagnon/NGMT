{
 "cells": [
  {
   "cell_type": "markdown",
   "metadata": {},
   "source": [
    "# Tutorial: the basics of NGMT\n",
    "\n",
    "**Author:** Julius Welzel\n",
    "**Last update:** Fri 22 Mar 2024\n",
    "\n",
    "## Learning objectives\n",
    "By the end of this tutorial:\n",
    "- you can load data and channel information into an `NGMTRecording` object\n",
    "- you can add Recording specific information to the `NGMTRecording` object\n",
    "- you are educated about the relationship between a `NGMTRecording` object and the [BIDS standard](https://bids-specification.readthedocs.io/en/stable/)."
   ]
  },
  {
   "cell_type": "markdown",
   "metadata": {},
   "source": [
    "## Imports\n",
    "\n",
    "We start by importing some Python libraries. You should be familiar with most of them, and we will not discuss them here."
   ]
  },
  {
   "cell_type": "code",
   "execution_count": 1,
   "metadata": {},
   "outputs": [],
   "source": [
    "from pathlib import Path\n",
    "import pandas as pd\n",
    "import os\n",
    "\n",
    "from ngmt.utils.ngmt_dataclass import NGMTRecording # Import the NGMTRecording class\n",
    "from ngmt.modules.gsd import ParaschivIonescuGaitSequenceDetection # Import the Gait Sequence Detection module"
   ]
  },
  {
   "cell_type": "markdown",
   "metadata": {},
   "source": [
    "## Read the raw data and metadata into python"
   ]
  },
  {
   "cell_type": "markdown",
   "metadata": {},
   "source": [
    "Let us consider a single recording, a accelerometer located at the lower back.\n",
    "The sensor only provided the raw data in a csv file without any metadata. We only know the metadata from the sensor manual and from setting up the sensor.\n",
    "Depending on the sensor, the metadata might be stored in a separate file or in the same file as the raw data as a header.\n",
    "\n",
    "To import data from your own devices, check if NGMT already has a reader for your device. If not, you can write your own reader and contribute it to the NGMT project."
   ]
  },
  {
   "cell_type": "code",
   "execution_count": 2,
   "metadata": {},
   "outputs": [],
   "source": [
    "# Set the filepath\n",
    "file_path = Path(os.getcwd()).parent.joinpath(\"examples\",\"data\",\"exAccelDataMobilise.csv\")\n",
    "\n",
    "# read the csv data\n",
    "acc_data = pd.read_csv(file_path)\n",
    "\n",
    "# specifiy the sampling rate\n",
    "fs = 100 # Hz"
   ]
  },
  {
   "cell_type": "markdown",
   "metadata": {},
   "source": [
    "We have loaded the data for one tracking systems, `LB_ACCEL`. We know we have three channels: `x`, `y`, and `z`. We also know that the data is sampled at 100 Hz.\n",
    "\n",
    "Let's check if the data is loaded correctly. We know we have a good 15 minutes of data with three channels representing acceleration.\n"
   ]
  },
  {
   "cell_type": "code",
   "execution_count": 3,
   "metadata": {},
   "outputs": [
    {
     "name": "stdout",
     "output_type": "stream",
     "text": [
      "Minutes of data: 18.33\n"
     ]
    }
   ],
   "source": [
    "n_channels = acc_data.shape[1]\n",
    "n_samples = acc_data.shape[0]\n",
    "\n",
    "# check how many minutes of data we have\n",
    "n_minutes = n_samples/fs/60\n",
    "print(f\"Minutes of data: {n_minutes:.2f}\")\n"
   ]
  },
  {
   "cell_type": "markdown",
   "metadata": {},
   "source": [
    "Now we can load the data into an `NGMTRecording` object.\n",
    "For this we have to construct the channel information oursleves. We know that the data is sampled at 100 Hz and we have three channels: `x`, `y`, and `z`.\n",
    "For more information in the channel information, see the [BIDS standard](https://bids-specification.readthedocs.io/en/stable/modality-specific-files/motion.html#channels-description-_channelstsv)."
   ]
  },
  {
   "cell_type": "markdown",
   "metadata": {},
   "source": [
    "**CAVE**:\n",
    "If the naming of the channels df is not following the BIDS standard, you will receive an error."
   ]
  },
  {
   "cell_type": "code",
   "execution_count": 4,
   "metadata": {},
   "outputs": [],
   "source": [
    "# construct the channel information\n",
    "\n",
    "tracked_point = \"lowerBack\"\n",
    "\n",
    "n_channels = acc_data.shape[1] # second dimension of the data represents the number of channels\n",
    "\n",
    "col_names = [\n",
    "    f\"{tracked_point}_{s}_{x}\"\n",
    "    for s in [\"ACCEL\"]\n",
    "    for x in [\"x\", \"y\", \"z\"]\n",
    "]\n",
    "\n",
    "# Make the channel dictionary following the BIDS naming conventions\n",
    "channels_dict = {\n",
    "    \"name\": col_names,\n",
    "    \"component\": [\"x\", \"y\", \"z\"] * (n_channels // 3),\n",
    "    \"type\": [\"ACCEL\"] * (n_channels),\n",
    "    \"tracked_point\": [tracked_point] * n_channels,\n",
    "    \"units\": [\"m/s^2\"] * n_channels,\n",
    "    \"sampling_frequency\": [fs] * n_channels,\n",
    "}\n",
    "\n",
    "recording =  NGMTRecording(\n",
    "    data={\"imu\": acc_data}, channels={\"lb_imu\": pd.DataFrame(channels_dict)}\n",
    ")"
   ]
  },
  {
   "cell_type": "markdown",
   "metadata": {},
   "source": [
    "Ahh, perfect. Let's first inspect the channels in the dataclass."
   ]
  },
  {
   "cell_type": "code",
   "execution_count": 5,
   "metadata": {},
   "outputs": [
    {
     "data": {
      "text/plain": [
       "{'lb_imu':                 name component   type tracked_point  units  sampling_frequency\n",
       " 0  lowerBack_ACCEL_x         x  ACCEL     lowerBack  m/s^2                 100\n",
       " 1  lowerBack_ACCEL_y         y  ACCEL     lowerBack  m/s^2                 100\n",
       " 2  lowerBack_ACCEL_z         z  ACCEL     lowerBack  m/s^2                 100}"
      ]
     },
     "execution_count": 5,
     "metadata": {},
     "output_type": "execute_result"
    }
   ],
   "source": [
    "recording.channels"
   ]
  },
  {
   "cell_type": "markdown",
   "metadata": {},
   "source": [
    "Now we can run some of our modules on this data. For example, we find gait sequences in our data."
   ]
  },
  {
   "cell_type": "code",
   "execution_count": 9,
   "metadata": {},
   "outputs": [
    {
     "data": {
      "text/html": [
       "<div>\n",
       "<style scoped>\n",
       "    .dataframe tbody tr th:only-of-type {\n",
       "        vertical-align: middle;\n",
       "    }\n",
       "\n",
       "    .dataframe tbody tr th {\n",
       "        vertical-align: top;\n",
       "    }\n",
       "\n",
       "    .dataframe thead th {\n",
       "        text-align: right;\n",
       "    }\n",
       "</style>\n",
       "<table border=\"1\" class=\"dataframe\">\n",
       "  <thead>\n",
       "    <tr style=\"text-align: right;\">\n",
       "      <th></th>\n",
       "      <th>0</th>\n",
       "      <th>1</th>\n",
       "      <th>2</th>\n",
       "    </tr>\n",
       "  </thead>\n",
       "  <tbody>\n",
       "    <tr>\n",
       "      <th>0</th>\n",
       "      <td>0.969647</td>\n",
       "      <td>-0.033464</td>\n",
       "      <td>-0.001778</td>\n",
       "    </tr>\n",
       "    <tr>\n",
       "      <th>1</th>\n",
       "      <td>0.970406</td>\n",
       "      <td>-0.036270</td>\n",
       "      <td>-0.000252</td>\n",
       "    </tr>\n",
       "    <tr>\n",
       "      <th>2</th>\n",
       "      <td>0.973402</td>\n",
       "      <td>-0.040885</td>\n",
       "      <td>0.000498</td>\n",
       "    </tr>\n",
       "    <tr>\n",
       "      <th>3</th>\n",
       "      <td>0.972774</td>\n",
       "      <td>-0.038731</td>\n",
       "      <td>0.005013</td>\n",
       "    </tr>\n",
       "    <tr>\n",
       "      <th>4</th>\n",
       "      <td>0.974063</td>\n",
       "      <td>-0.036836</td>\n",
       "      <td>-0.001207</td>\n",
       "    </tr>\n",
       "    <tr>\n",
       "      <th>...</th>\n",
       "      <td>...</td>\n",
       "      <td>...</td>\n",
       "      <td>...</td>\n",
       "    </tr>\n",
       "    <tr>\n",
       "      <th>109995</th>\n",
       "      <td>0.970364</td>\n",
       "      <td>0.024569</td>\n",
       "      <td>0.095281</td>\n",
       "    </tr>\n",
       "    <tr>\n",
       "      <th>109996</th>\n",
       "      <td>0.968783</td>\n",
       "      <td>0.023735</td>\n",
       "      <td>0.095931</td>\n",
       "    </tr>\n",
       "    <tr>\n",
       "      <th>109997</th>\n",
       "      <td>0.969204</td>\n",
       "      <td>0.027664</td>\n",
       "      <td>0.098075</td>\n",
       "    </tr>\n",
       "    <tr>\n",
       "      <th>109998</th>\n",
       "      <td>0.968436</td>\n",
       "      <td>0.029833</td>\n",
       "      <td>0.096733</td>\n",
       "    </tr>\n",
       "    <tr>\n",
       "      <th>109999</th>\n",
       "      <td>0.968788</td>\n",
       "      <td>0.025072</td>\n",
       "      <td>0.093819</td>\n",
       "    </tr>\n",
       "  </tbody>\n",
       "</table>\n",
       "<p>110000 rows × 3 columns</p>\n",
       "</div>"
      ],
      "text/plain": [
       "               0         1         2\n",
       "0       0.969647 -0.033464 -0.001778\n",
       "1       0.970406 -0.036270 -0.000252\n",
       "2       0.973402 -0.040885  0.000498\n",
       "3       0.972774 -0.038731  0.005013\n",
       "4       0.974063 -0.036836 -0.001207\n",
       "...          ...       ...       ...\n",
       "109995  0.970364  0.024569  0.095281\n",
       "109996  0.968783  0.023735  0.095931\n",
       "109997  0.969204  0.027664  0.098075\n",
       "109998  0.968436  0.029833  0.096733\n",
       "109999  0.968788  0.025072  0.093819\n",
       "\n",
       "[110000 rows x 3 columns]"
      ]
     },
     "execution_count": 9,
     "metadata": {},
     "output_type": "execute_result"
    }
   ],
   "source": [
    "recording.data[\"imu\"]"
   ]
  },
  {
   "cell_type": "code",
   "execution_count": 10,
   "metadata": {},
   "outputs": [
    {
     "name": "stdout",
     "output_type": "stream",
     "text": [
      "20 gait sequence(s) detected.\n",
      "{'lowerBack':        onset  duration     event_type tracking_systems tracked_points\n",
      "0     90.175    10.400  gait sequence               SU      LowerBack\n",
      "1    106.075     5.600  gait sequence               SU      LowerBack\n",
      "2    121.750     4.250  gait sequence               SU      LowerBack\n",
      "3    141.275     5.525  gait sequence               SU      LowerBack\n",
      "4    195.025     7.100  gait sequence               SU      LowerBack\n",
      "5    207.850    12.325  gait sequence               SU      LowerBack\n",
      "6    256.925     5.900  gait sequence               SU      LowerBack\n",
      "7    291.175    16.650  gait sequence               SU      LowerBack\n",
      "8    319.450     7.100  gait sequence               SU      LowerBack\n",
      "9    360.350    32.375  gait sequence               SU      LowerBack\n",
      "10   408.125    58.650  gait sequence               SU      LowerBack\n",
      "11   470.975     4.275  gait sequence               SU      LowerBack\n",
      "12   479.150     3.600  gait sequence               SU      LowerBack\n",
      "13   488.100     4.650  gait sequence               SU      LowerBack\n",
      "14   495.875   327.350  gait sequence               SU      LowerBack\n",
      "15   848.875    14.300  gait sequence               SU      LowerBack\n",
      "16   867.025    47.975  gait sequence               SU      LowerBack\n",
      "17   940.975    14.025  gait sequence               SU      LowerBack\n",
      "18   967.575    38.800  gait sequence               SU      LowerBack\n",
      "19  1047.625    12.625  gait sequence               SU      LowerBack\n",
      "20    90.175    10.400  gait sequence               SU      LowerBack\n",
      "21   106.075     5.600  gait sequence               SU      LowerBack\n",
      "22   121.750     4.250  gait sequence               SU      LowerBack\n",
      "23   141.275     5.525  gait sequence               SU      LowerBack\n",
      "24   195.025     7.100  gait sequence               SU      LowerBack\n",
      "25   207.850    12.325  gait sequence               SU      LowerBack\n",
      "26   256.925     5.900  gait sequence               SU      LowerBack\n",
      "27   291.175    16.650  gait sequence               SU      LowerBack\n",
      "28   319.450     7.100  gait sequence               SU      LowerBack\n",
      "29   360.350    32.375  gait sequence               SU      LowerBack\n",
      "30   408.125    58.650  gait sequence               SU      LowerBack\n",
      "31   470.975     4.275  gait sequence               SU      LowerBack\n",
      "32   479.150     3.600  gait sequence               SU      LowerBack\n",
      "33   488.100     4.650  gait sequence               SU      LowerBack\n",
      "34   495.875   327.350  gait sequence               SU      LowerBack\n",
      "35   848.875    14.300  gait sequence               SU      LowerBack\n",
      "36   867.025    47.975  gait sequence               SU      LowerBack\n",
      "37   940.975    14.025  gait sequence               SU      LowerBack\n",
      "38   967.575    38.800  gait sequence               SU      LowerBack\n",
      "39  1047.625    12.625  gait sequence               SU      LowerBack}\n"
     ]
    }
   ],
   "source": [
    "# Create an instance of the ParaschivIonescuGaitSequenceDetection class\n",
    "gsd = ParaschivIonescuGaitSequenceDetection(target_sampling_freq_Hz=40)\n",
    "\n",
    "# Call the gait sequence detection using gsd.detect\n",
    "gsd = gsd.detect(\n",
    "    data=recording.data[\"imu\"], sampling_freq_Hz=fs, plot_results=False, dt_data=None\n",
    ")\n",
    "\n",
    "# Gait sequences are stored in gait_sequences_ attribute of gsd\n",
    "gait_sequences = gsd.gait_sequences_\n",
    "\n",
    "# Add events to the recording as a dictionary including tracking system and events\n",
    "gait_sequence_events = gait_sequences\n",
    "recording.add_events(tracking_system=tracked_point, new_events=gait_sequence_events)\n",
    "\n",
    "# Show events and their corresponding information\n",
    "print(recording.events)"
   ]
  }
 ],
 "metadata": {
  "kernelspec": {
   "display_name": "ngmt-3JmP5GSQ-py3.10",
   "language": "python",
   "name": "python3"
  },
  "language_info": {
   "codemirror_mode": {
    "name": "ipython",
    "version": 3
   },
   "file_extension": ".py",
   "mimetype": "text/x-python",
   "name": "python",
   "nbconvert_exporter": "python",
   "pygments_lexer": "ipython3",
   "version": "3.10.1"
  }
 },
 "nbformat": 4,
 "nbformat_minor": 2
}
